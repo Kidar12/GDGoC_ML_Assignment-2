{
  "nbformat": 4,
  "nbformat_minor": 0,
  "metadata": {
    "colab": {
      "provenance": [],
      "authorship_tag": "ABX9TyMQ2+OOZtKLFA9rFexKotl0",
      "include_colab_link": true
    },
    "kernelspec": {
      "name": "python3",
      "display_name": "Python 3"
    },
    "language_info": {
      "name": "python"
    }
  },
  "cells": [
    {
      "cell_type": "markdown",
      "metadata": {
        "id": "view-in-github",
        "colab_type": "text"
      },
      "source": [
        "<a href=\"https://colab.research.google.com/github/Kidar12/GDGoC_ML_Assignment-2/blob/main/Dataset_MBP.ipynb\" target=\"_parent\"><img src=\"https://colab.research.google.com/assets/colab-badge.svg\" alt=\"Open In Colab\"/></a>"
      ]
    },
    {
      "cell_type": "code",
      "execution_count": 1,
      "metadata": {
        "colab": {
          "base_uri": "https://localhost:8080/",
          "height": 73
        },
        "id": "_hXfRnz3CxDN",
        "outputId": "1d5d4bcd-b8ae-4a4d-a234-bd2c51999f2a"
      },
      "outputs": [
        {
          "output_type": "display_data",
          "data": {
            "text/plain": [
              "<IPython.core.display.HTML object>"
            ],
            "text/html": [
              "\n",
              "     <input type=\"file\" id=\"files-bc069773-00a9-4e48-bd48-c1923cd23c12\" name=\"files[]\" multiple disabled\n",
              "        style=\"border:none\" />\n",
              "     <output id=\"result-bc069773-00a9-4e48-bd48-c1923cd23c12\">\n",
              "      Upload widget is only available when the cell has been executed in the\n",
              "      current browser session. Please rerun this cell to enable.\n",
              "      </output>\n",
              "      <script>// Copyright 2017 Google LLC\n",
              "//\n",
              "// Licensed under the Apache License, Version 2.0 (the \"License\");\n",
              "// you may not use this file except in compliance with the License.\n",
              "// You may obtain a copy of the License at\n",
              "//\n",
              "//      http://www.apache.org/licenses/LICENSE-2.0\n",
              "//\n",
              "// Unless required by applicable law or agreed to in writing, software\n",
              "// distributed under the License is distributed on an \"AS IS\" BASIS,\n",
              "// WITHOUT WARRANTIES OR CONDITIONS OF ANY KIND, either express or implied.\n",
              "// See the License for the specific language governing permissions and\n",
              "// limitations under the License.\n",
              "\n",
              "/**\n",
              " * @fileoverview Helpers for google.colab Python module.\n",
              " */\n",
              "(function(scope) {\n",
              "function span(text, styleAttributes = {}) {\n",
              "  const element = document.createElement('span');\n",
              "  element.textContent = text;\n",
              "  for (const key of Object.keys(styleAttributes)) {\n",
              "    element.style[key] = styleAttributes[key];\n",
              "  }\n",
              "  return element;\n",
              "}\n",
              "\n",
              "// Max number of bytes which will be uploaded at a time.\n",
              "const MAX_PAYLOAD_SIZE = 100 * 1024;\n",
              "\n",
              "function _uploadFiles(inputId, outputId) {\n",
              "  const steps = uploadFilesStep(inputId, outputId);\n",
              "  const outputElement = document.getElementById(outputId);\n",
              "  // Cache steps on the outputElement to make it available for the next call\n",
              "  // to uploadFilesContinue from Python.\n",
              "  outputElement.steps = steps;\n",
              "\n",
              "  return _uploadFilesContinue(outputId);\n",
              "}\n",
              "\n",
              "// This is roughly an async generator (not supported in the browser yet),\n",
              "// where there are multiple asynchronous steps and the Python side is going\n",
              "// to poll for completion of each step.\n",
              "// This uses a Promise to block the python side on completion of each step,\n",
              "// then passes the result of the previous step as the input to the next step.\n",
              "function _uploadFilesContinue(outputId) {\n",
              "  const outputElement = document.getElementById(outputId);\n",
              "  const steps = outputElement.steps;\n",
              "\n",
              "  const next = steps.next(outputElement.lastPromiseValue);\n",
              "  return Promise.resolve(next.value.promise).then((value) => {\n",
              "    // Cache the last promise value to make it available to the next\n",
              "    // step of the generator.\n",
              "    outputElement.lastPromiseValue = value;\n",
              "    return next.value.response;\n",
              "  });\n",
              "}\n",
              "\n",
              "/**\n",
              " * Generator function which is called between each async step of the upload\n",
              " * process.\n",
              " * @param {string} inputId Element ID of the input file picker element.\n",
              " * @param {string} outputId Element ID of the output display.\n",
              " * @return {!Iterable<!Object>} Iterable of next steps.\n",
              " */\n",
              "function* uploadFilesStep(inputId, outputId) {\n",
              "  const inputElement = document.getElementById(inputId);\n",
              "  inputElement.disabled = false;\n",
              "\n",
              "  const outputElement = document.getElementById(outputId);\n",
              "  outputElement.innerHTML = '';\n",
              "\n",
              "  const pickedPromise = new Promise((resolve) => {\n",
              "    inputElement.addEventListener('change', (e) => {\n",
              "      resolve(e.target.files);\n",
              "    });\n",
              "  });\n",
              "\n",
              "  const cancel = document.createElement('button');\n",
              "  inputElement.parentElement.appendChild(cancel);\n",
              "  cancel.textContent = 'Cancel upload';\n",
              "  const cancelPromise = new Promise((resolve) => {\n",
              "    cancel.onclick = () => {\n",
              "      resolve(null);\n",
              "    };\n",
              "  });\n",
              "\n",
              "  // Wait for the user to pick the files.\n",
              "  const files = yield {\n",
              "    promise: Promise.race([pickedPromise, cancelPromise]),\n",
              "    response: {\n",
              "      action: 'starting',\n",
              "    }\n",
              "  };\n",
              "\n",
              "  cancel.remove();\n",
              "\n",
              "  // Disable the input element since further picks are not allowed.\n",
              "  inputElement.disabled = true;\n",
              "\n",
              "  if (!files) {\n",
              "    return {\n",
              "      response: {\n",
              "        action: 'complete',\n",
              "      }\n",
              "    };\n",
              "  }\n",
              "\n",
              "  for (const file of files) {\n",
              "    const li = document.createElement('li');\n",
              "    li.append(span(file.name, {fontWeight: 'bold'}));\n",
              "    li.append(span(\n",
              "        `(${file.type || 'n/a'}) - ${file.size} bytes, ` +\n",
              "        `last modified: ${\n",
              "            file.lastModifiedDate ? file.lastModifiedDate.toLocaleDateString() :\n",
              "                                    'n/a'} - `));\n",
              "    const percent = span('0% done');\n",
              "    li.appendChild(percent);\n",
              "\n",
              "    outputElement.appendChild(li);\n",
              "\n",
              "    const fileDataPromise = new Promise((resolve) => {\n",
              "      const reader = new FileReader();\n",
              "      reader.onload = (e) => {\n",
              "        resolve(e.target.result);\n",
              "      };\n",
              "      reader.readAsArrayBuffer(file);\n",
              "    });\n",
              "    // Wait for the data to be ready.\n",
              "    let fileData = yield {\n",
              "      promise: fileDataPromise,\n",
              "      response: {\n",
              "        action: 'continue',\n",
              "      }\n",
              "    };\n",
              "\n",
              "    // Use a chunked sending to avoid message size limits. See b/62115660.\n",
              "    let position = 0;\n",
              "    do {\n",
              "      const length = Math.min(fileData.byteLength - position, MAX_PAYLOAD_SIZE);\n",
              "      const chunk = new Uint8Array(fileData, position, length);\n",
              "      position += length;\n",
              "\n",
              "      const base64 = btoa(String.fromCharCode.apply(null, chunk));\n",
              "      yield {\n",
              "        response: {\n",
              "          action: 'append',\n",
              "          file: file.name,\n",
              "          data: base64,\n",
              "        },\n",
              "      };\n",
              "\n",
              "      let percentDone = fileData.byteLength === 0 ?\n",
              "          100 :\n",
              "          Math.round((position / fileData.byteLength) * 100);\n",
              "      percent.textContent = `${percentDone}% done`;\n",
              "\n",
              "    } while (position < fileData.byteLength);\n",
              "  }\n",
              "\n",
              "  // All done.\n",
              "  yield {\n",
              "    response: {\n",
              "      action: 'complete',\n",
              "    }\n",
              "  };\n",
              "}\n",
              "\n",
              "scope.google = scope.google || {};\n",
              "scope.google.colab = scope.google.colab || {};\n",
              "scope.google.colab._files = {\n",
              "  _uploadFiles,\n",
              "  _uploadFilesContinue,\n",
              "};\n",
              "})(self);\n",
              "</script> "
            ]
          },
          "metadata": {}
        },
        {
          "output_type": "stream",
          "name": "stdout",
          "text": [
            "Saving MBP.csv to MBP (4).csv\n"
          ]
        }
      ],
      "source": [
        "from google.colab import files\n",
        "uploaded = files.upload()"
      ]
    },
    {
      "cell_type": "code",
      "source": [
        "import pandas as pd\n",
        "import numpy as np\n",
        "import matplotlib.pyplot as plt\n",
        "import seaborn as sns\n",
        "import warnings\n",
        "warnings.filterwarnings('ignore')\n",
        "\n",
        "from sklearn.model_selection import train_test_split\n",
        "\n",
        "%matplotlib inline\n",
        "\n",
        "df_mbp = pd.read_csv('/content/MBP.csv')\n",
        "df_mbp.head(10)"
      ],
      "metadata": {
        "colab": {
          "base_uri": "https://localhost:8080/",
          "height": 1000
        },
        "id": "1RIJVyYRDDPm",
        "outputId": "6e02fb67-e2ba-4c60-9166-c7c4eee15351"
      },
      "execution_count": 2,
      "outputs": [
        {
          "output_type": "execute_result",
          "data": {
            "text/plain": [
              "                        Phone Name  Rating ?/5 Number of Ratings       RAM  \\\n",
              "0     POCO C50 (Royal Blue, 32 GB)         4.2            33,561  2 GB RAM   \n",
              "1    POCO M4 5G (Cool Blue, 64 GB)         4.2            77,128  4 GB RAM   \n",
              "2     POCO C51 (Royal Blue, 64 GB)         4.3            15,175  4 GB RAM   \n",
              "3      POCO C55 (Cool Blue, 64 GB)         4.2            22,621  4 GB RAM   \n",
              "4    POCO C51 (Power Black, 64 GB)         4.3            15,175  4 GB RAM   \n",
              "5  POCO M4 5G (Power Black, 64 GB)         4.2            77,128  4 GB RAM   \n",
              "6    POCO C55 (Power Black, 64 GB)         4.2            22,621  4 GB RAM   \n",
              "7   POCO C55 (Forest Green, 64 GB)         4.2            22,621  4 GB RAM   \n",
              "8     POCO C55 (Cool Blue, 128 GB)         4.1            13,647  6 GB RAM   \n",
              "9      POCO M4 5G (Yellow, 128 GB)         4.2            40,525  6 GB RAM   \n",
              "\n",
              "  ROM/Storage       Back/Rare Camera      Front Camera   Battery  \\\n",
              "0   32 GB ROM        8MP Dual Camera  5MP Front Camera  5000 mAh   \n",
              "1   64 GB ROM             50MP + 2MP  8MP Front Camera  5000 mAh   \n",
              "2   64 GB ROM   8MP Dual Rear Camera  5MP Front Camera  5000 mAh   \n",
              "3   64 GB ROM  50MP Dual Rear Camera  5MP Front Camera  5000 mAh   \n",
              "4   64 GB ROM   8MP Dual Rear Camera  5MP Front Camera  5000 mAh   \n",
              "5   64 GB ROM             50MP + 2MP  8MP Front Camera  5000 mAh   \n",
              "6   64 GB ROM  50MP Dual Rear Camera  5MP Front Camera  5000 mAh   \n",
              "7   64 GB ROM  50MP Dual Rear Camera  5MP Front Camera  5000 mAh   \n",
              "8  128 GB ROM  50MP Dual Rear Camera  5MP Front Camera  5000 mAh   \n",
              "9  128 GB ROM             50MP + 2MP  8MP Front Camera  5000 mAh   \n",
              "\n",
              "                                           Processor Price in INR  \\\n",
              "0  Mediatek Helio A22 Processor, Upto 2.0 GHz Pro...       ₹5,649   \n",
              "1                   Mediatek Dimensity 700 Processor      ₹11,999   \n",
              "2                                Helio G36 Processor       ₹6,999   \n",
              "3                       Mediatek Helio G85 Processor       ₹7,749   \n",
              "4                                Helio G36 Processor       ₹6,999   \n",
              "5                   Mediatek Dimensity 700 Processor      ₹11,999   \n",
              "6                       Mediatek Helio G85 Processor       ₹7,749   \n",
              "7                       Mediatek Helio G85 Processor       ₹7,749   \n",
              "8                       Mediatek Helio G85 Processor       ₹9,249   \n",
              "9                   Mediatek Dimensity 700 Processor      ₹13,999   \n",
              "\n",
              "  Date of Scraping  \n",
              "0       2023-06-17  \n",
              "1       2023-06-17  \n",
              "2       2023-06-17  \n",
              "3       2023-06-17  \n",
              "4       2023-06-17  \n",
              "5       2023-06-17  \n",
              "6       2023-06-17  \n",
              "7       2023-06-17  \n",
              "8       2023-06-17  \n",
              "9       2023-06-17  "
            ],
            "text/html": [
              "\n",
              "  <div id=\"df-0036d3bc-983a-4186-b330-8a015b6f956e\" class=\"colab-df-container\">\n",
              "    <div>\n",
              "<style scoped>\n",
              "    .dataframe tbody tr th:only-of-type {\n",
              "        vertical-align: middle;\n",
              "    }\n",
              "\n",
              "    .dataframe tbody tr th {\n",
              "        vertical-align: top;\n",
              "    }\n",
              "\n",
              "    .dataframe thead th {\n",
              "        text-align: right;\n",
              "    }\n",
              "</style>\n",
              "<table border=\"1\" class=\"dataframe\">\n",
              "  <thead>\n",
              "    <tr style=\"text-align: right;\">\n",
              "      <th></th>\n",
              "      <th>Phone Name</th>\n",
              "      <th>Rating ?/5</th>\n",
              "      <th>Number of Ratings</th>\n",
              "      <th>RAM</th>\n",
              "      <th>ROM/Storage</th>\n",
              "      <th>Back/Rare Camera</th>\n",
              "      <th>Front Camera</th>\n",
              "      <th>Battery</th>\n",
              "      <th>Processor</th>\n",
              "      <th>Price in INR</th>\n",
              "      <th>Date of Scraping</th>\n",
              "    </tr>\n",
              "  </thead>\n",
              "  <tbody>\n",
              "    <tr>\n",
              "      <th>0</th>\n",
              "      <td>POCO C50 (Royal Blue, 32 GB)</td>\n",
              "      <td>4.2</td>\n",
              "      <td>33,561</td>\n",
              "      <td>2 GB RAM</td>\n",
              "      <td>32 GB ROM</td>\n",
              "      <td>8MP Dual Camera</td>\n",
              "      <td>5MP Front Camera</td>\n",
              "      <td>5000 mAh</td>\n",
              "      <td>Mediatek Helio A22 Processor, Upto 2.0 GHz Pro...</td>\n",
              "      <td>₹5,649</td>\n",
              "      <td>2023-06-17</td>\n",
              "    </tr>\n",
              "    <tr>\n",
              "      <th>1</th>\n",
              "      <td>POCO M4 5G (Cool Blue, 64 GB)</td>\n",
              "      <td>4.2</td>\n",
              "      <td>77,128</td>\n",
              "      <td>4 GB RAM</td>\n",
              "      <td>64 GB ROM</td>\n",
              "      <td>50MP + 2MP</td>\n",
              "      <td>8MP Front Camera</td>\n",
              "      <td>5000 mAh</td>\n",
              "      <td>Mediatek Dimensity 700 Processor</td>\n",
              "      <td>₹11,999</td>\n",
              "      <td>2023-06-17</td>\n",
              "    </tr>\n",
              "    <tr>\n",
              "      <th>2</th>\n",
              "      <td>POCO C51 (Royal Blue, 64 GB)</td>\n",
              "      <td>4.3</td>\n",
              "      <td>15,175</td>\n",
              "      <td>4 GB RAM</td>\n",
              "      <td>64 GB ROM</td>\n",
              "      <td>8MP Dual Rear Camera</td>\n",
              "      <td>5MP Front Camera</td>\n",
              "      <td>5000 mAh</td>\n",
              "      <td>Helio G36 Processor</td>\n",
              "      <td>₹6,999</td>\n",
              "      <td>2023-06-17</td>\n",
              "    </tr>\n",
              "    <tr>\n",
              "      <th>3</th>\n",
              "      <td>POCO C55 (Cool Blue, 64 GB)</td>\n",
              "      <td>4.2</td>\n",
              "      <td>22,621</td>\n",
              "      <td>4 GB RAM</td>\n",
              "      <td>64 GB ROM</td>\n",
              "      <td>50MP Dual Rear Camera</td>\n",
              "      <td>5MP Front Camera</td>\n",
              "      <td>5000 mAh</td>\n",
              "      <td>Mediatek Helio G85 Processor</td>\n",
              "      <td>₹7,749</td>\n",
              "      <td>2023-06-17</td>\n",
              "    </tr>\n",
              "    <tr>\n",
              "      <th>4</th>\n",
              "      <td>POCO C51 (Power Black, 64 GB)</td>\n",
              "      <td>4.3</td>\n",
              "      <td>15,175</td>\n",
              "      <td>4 GB RAM</td>\n",
              "      <td>64 GB ROM</td>\n",
              "      <td>8MP Dual Rear Camera</td>\n",
              "      <td>5MP Front Camera</td>\n",
              "      <td>5000 mAh</td>\n",
              "      <td>Helio G36 Processor</td>\n",
              "      <td>₹6,999</td>\n",
              "      <td>2023-06-17</td>\n",
              "    </tr>\n",
              "    <tr>\n",
              "      <th>5</th>\n",
              "      <td>POCO M4 5G (Power Black, 64 GB)</td>\n",
              "      <td>4.2</td>\n",
              "      <td>77,128</td>\n",
              "      <td>4 GB RAM</td>\n",
              "      <td>64 GB ROM</td>\n",
              "      <td>50MP + 2MP</td>\n",
              "      <td>8MP Front Camera</td>\n",
              "      <td>5000 mAh</td>\n",
              "      <td>Mediatek Dimensity 700 Processor</td>\n",
              "      <td>₹11,999</td>\n",
              "      <td>2023-06-17</td>\n",
              "    </tr>\n",
              "    <tr>\n",
              "      <th>6</th>\n",
              "      <td>POCO C55 (Power Black, 64 GB)</td>\n",
              "      <td>4.2</td>\n",
              "      <td>22,621</td>\n",
              "      <td>4 GB RAM</td>\n",
              "      <td>64 GB ROM</td>\n",
              "      <td>50MP Dual Rear Camera</td>\n",
              "      <td>5MP Front Camera</td>\n",
              "      <td>5000 mAh</td>\n",
              "      <td>Mediatek Helio G85 Processor</td>\n",
              "      <td>₹7,749</td>\n",
              "      <td>2023-06-17</td>\n",
              "    </tr>\n",
              "    <tr>\n",
              "      <th>7</th>\n",
              "      <td>POCO C55 (Forest Green, 64 GB)</td>\n",
              "      <td>4.2</td>\n",
              "      <td>22,621</td>\n",
              "      <td>4 GB RAM</td>\n",
              "      <td>64 GB ROM</td>\n",
              "      <td>50MP Dual Rear Camera</td>\n",
              "      <td>5MP Front Camera</td>\n",
              "      <td>5000 mAh</td>\n",
              "      <td>Mediatek Helio G85 Processor</td>\n",
              "      <td>₹7,749</td>\n",
              "      <td>2023-06-17</td>\n",
              "    </tr>\n",
              "    <tr>\n",
              "      <th>8</th>\n",
              "      <td>POCO C55 (Cool Blue, 128 GB)</td>\n",
              "      <td>4.1</td>\n",
              "      <td>13,647</td>\n",
              "      <td>6 GB RAM</td>\n",
              "      <td>128 GB ROM</td>\n",
              "      <td>50MP Dual Rear Camera</td>\n",
              "      <td>5MP Front Camera</td>\n",
              "      <td>5000 mAh</td>\n",
              "      <td>Mediatek Helio G85 Processor</td>\n",
              "      <td>₹9,249</td>\n",
              "      <td>2023-06-17</td>\n",
              "    </tr>\n",
              "    <tr>\n",
              "      <th>9</th>\n",
              "      <td>POCO M4 5G (Yellow, 128 GB)</td>\n",
              "      <td>4.2</td>\n",
              "      <td>40,525</td>\n",
              "      <td>6 GB RAM</td>\n",
              "      <td>128 GB ROM</td>\n",
              "      <td>50MP + 2MP</td>\n",
              "      <td>8MP Front Camera</td>\n",
              "      <td>5000 mAh</td>\n",
              "      <td>Mediatek Dimensity 700 Processor</td>\n",
              "      <td>₹13,999</td>\n",
              "      <td>2023-06-17</td>\n",
              "    </tr>\n",
              "  </tbody>\n",
              "</table>\n",
              "</div>\n",
              "    <div class=\"colab-df-buttons\">\n",
              "\n",
              "  <div class=\"colab-df-container\">\n",
              "    <button class=\"colab-df-convert\" onclick=\"convertToInteractive('df-0036d3bc-983a-4186-b330-8a015b6f956e')\"\n",
              "            title=\"Convert this dataframe to an interactive table.\"\n",
              "            style=\"display:none;\">\n",
              "\n",
              "  <svg xmlns=\"http://www.w3.org/2000/svg\" height=\"24px\" viewBox=\"0 -960 960 960\">\n",
              "    <path d=\"M120-120v-720h720v720H120Zm60-500h600v-160H180v160Zm220 220h160v-160H400v160Zm0 220h160v-160H400v160ZM180-400h160v-160H180v160Zm440 0h160v-160H620v160ZM180-180h160v-160H180v160Zm440 0h160v-160H620v160Z\"/>\n",
              "  </svg>\n",
              "    </button>\n",
              "\n",
              "  <style>\n",
              "    .colab-df-container {\n",
              "      display:flex;\n",
              "      gap: 12px;\n",
              "    }\n",
              "\n",
              "    .colab-df-convert {\n",
              "      background-color: #E8F0FE;\n",
              "      border: none;\n",
              "      border-radius: 50%;\n",
              "      cursor: pointer;\n",
              "      display: none;\n",
              "      fill: #1967D2;\n",
              "      height: 32px;\n",
              "      padding: 0 0 0 0;\n",
              "      width: 32px;\n",
              "    }\n",
              "\n",
              "    .colab-df-convert:hover {\n",
              "      background-color: #E2EBFA;\n",
              "      box-shadow: 0px 1px 2px rgba(60, 64, 67, 0.3), 0px 1px 3px 1px rgba(60, 64, 67, 0.15);\n",
              "      fill: #174EA6;\n",
              "    }\n",
              "\n",
              "    .colab-df-buttons div {\n",
              "      margin-bottom: 4px;\n",
              "    }\n",
              "\n",
              "    [theme=dark] .colab-df-convert {\n",
              "      background-color: #3B4455;\n",
              "      fill: #D2E3FC;\n",
              "    }\n",
              "\n",
              "    [theme=dark] .colab-df-convert:hover {\n",
              "      background-color: #434B5C;\n",
              "      box-shadow: 0px 1px 3px 1px rgba(0, 0, 0, 0.15);\n",
              "      filter: drop-shadow(0px 1px 2px rgba(0, 0, 0, 0.3));\n",
              "      fill: #FFFFFF;\n",
              "    }\n",
              "  </style>\n",
              "\n",
              "    <script>\n",
              "      const buttonEl =\n",
              "        document.querySelector('#df-0036d3bc-983a-4186-b330-8a015b6f956e button.colab-df-convert');\n",
              "      buttonEl.style.display =\n",
              "        google.colab.kernel.accessAllowed ? 'block' : 'none';\n",
              "\n",
              "      async function convertToInteractive(key) {\n",
              "        const element = document.querySelector('#df-0036d3bc-983a-4186-b330-8a015b6f956e');\n",
              "        const dataTable =\n",
              "          await google.colab.kernel.invokeFunction('convertToInteractive',\n",
              "                                                    [key], {});\n",
              "        if (!dataTable) return;\n",
              "\n",
              "        const docLinkHtml = 'Like what you see? Visit the ' +\n",
              "          '<a target=\"_blank\" href=https://colab.research.google.com/notebooks/data_table.ipynb>data table notebook</a>'\n",
              "          + ' to learn more about interactive tables.';\n",
              "        element.innerHTML = '';\n",
              "        dataTable['output_type'] = 'display_data';\n",
              "        await google.colab.output.renderOutput(dataTable, element);\n",
              "        const docLink = document.createElement('div');\n",
              "        docLink.innerHTML = docLinkHtml;\n",
              "        element.appendChild(docLink);\n",
              "      }\n",
              "    </script>\n",
              "  </div>\n",
              "\n",
              "\n",
              "<div id=\"df-cfeeaf8c-7acd-45e9-b16d-b9e7d1f9ac9e\">\n",
              "  <button class=\"colab-df-quickchart\" onclick=\"quickchart('df-cfeeaf8c-7acd-45e9-b16d-b9e7d1f9ac9e')\"\n",
              "            title=\"Suggest charts\"\n",
              "            style=\"display:none;\">\n",
              "\n",
              "<svg xmlns=\"http://www.w3.org/2000/svg\" height=\"24px\"viewBox=\"0 0 24 24\"\n",
              "     width=\"24px\">\n",
              "    <g>\n",
              "        <path d=\"M19 3H5c-1.1 0-2 .9-2 2v14c0 1.1.9 2 2 2h14c1.1 0 2-.9 2-2V5c0-1.1-.9-2-2-2zM9 17H7v-7h2v7zm4 0h-2V7h2v10zm4 0h-2v-4h2v4z\"/>\n",
              "    </g>\n",
              "</svg>\n",
              "  </button>\n",
              "\n",
              "<style>\n",
              "  .colab-df-quickchart {\n",
              "      --bg-color: #E8F0FE;\n",
              "      --fill-color: #1967D2;\n",
              "      --hover-bg-color: #E2EBFA;\n",
              "      --hover-fill-color: #174EA6;\n",
              "      --disabled-fill-color: #AAA;\n",
              "      --disabled-bg-color: #DDD;\n",
              "  }\n",
              "\n",
              "  [theme=dark] .colab-df-quickchart {\n",
              "      --bg-color: #3B4455;\n",
              "      --fill-color: #D2E3FC;\n",
              "      --hover-bg-color: #434B5C;\n",
              "      --hover-fill-color: #FFFFFF;\n",
              "      --disabled-bg-color: #3B4455;\n",
              "      --disabled-fill-color: #666;\n",
              "  }\n",
              "\n",
              "  .colab-df-quickchart {\n",
              "    background-color: var(--bg-color);\n",
              "    border: none;\n",
              "    border-radius: 50%;\n",
              "    cursor: pointer;\n",
              "    display: none;\n",
              "    fill: var(--fill-color);\n",
              "    height: 32px;\n",
              "    padding: 0;\n",
              "    width: 32px;\n",
              "  }\n",
              "\n",
              "  .colab-df-quickchart:hover {\n",
              "    background-color: var(--hover-bg-color);\n",
              "    box-shadow: 0 1px 2px rgba(60, 64, 67, 0.3), 0 1px 3px 1px rgba(60, 64, 67, 0.15);\n",
              "    fill: var(--button-hover-fill-color);\n",
              "  }\n",
              "\n",
              "  .colab-df-quickchart-complete:disabled,\n",
              "  .colab-df-quickchart-complete:disabled:hover {\n",
              "    background-color: var(--disabled-bg-color);\n",
              "    fill: var(--disabled-fill-color);\n",
              "    box-shadow: none;\n",
              "  }\n",
              "\n",
              "  .colab-df-spinner {\n",
              "    border: 2px solid var(--fill-color);\n",
              "    border-color: transparent;\n",
              "    border-bottom-color: var(--fill-color);\n",
              "    animation:\n",
              "      spin 1s steps(1) infinite;\n",
              "  }\n",
              "\n",
              "  @keyframes spin {\n",
              "    0% {\n",
              "      border-color: transparent;\n",
              "      border-bottom-color: var(--fill-color);\n",
              "      border-left-color: var(--fill-color);\n",
              "    }\n",
              "    20% {\n",
              "      border-color: transparent;\n",
              "      border-left-color: var(--fill-color);\n",
              "      border-top-color: var(--fill-color);\n",
              "    }\n",
              "    30% {\n",
              "      border-color: transparent;\n",
              "      border-left-color: var(--fill-color);\n",
              "      border-top-color: var(--fill-color);\n",
              "      border-right-color: var(--fill-color);\n",
              "    }\n",
              "    40% {\n",
              "      border-color: transparent;\n",
              "      border-right-color: var(--fill-color);\n",
              "      border-top-color: var(--fill-color);\n",
              "    }\n",
              "    60% {\n",
              "      border-color: transparent;\n",
              "      border-right-color: var(--fill-color);\n",
              "    }\n",
              "    80% {\n",
              "      border-color: transparent;\n",
              "      border-right-color: var(--fill-color);\n",
              "      border-bottom-color: var(--fill-color);\n",
              "    }\n",
              "    90% {\n",
              "      border-color: transparent;\n",
              "      border-bottom-color: var(--fill-color);\n",
              "    }\n",
              "  }\n",
              "</style>\n",
              "\n",
              "  <script>\n",
              "    async function quickchart(key) {\n",
              "      const quickchartButtonEl =\n",
              "        document.querySelector('#' + key + ' button');\n",
              "      quickchartButtonEl.disabled = true;  // To prevent multiple clicks.\n",
              "      quickchartButtonEl.classList.add('colab-df-spinner');\n",
              "      try {\n",
              "        const charts = await google.colab.kernel.invokeFunction(\n",
              "            'suggestCharts', [key], {});\n",
              "      } catch (error) {\n",
              "        console.error('Error during call to suggestCharts:', error);\n",
              "      }\n",
              "      quickchartButtonEl.classList.remove('colab-df-spinner');\n",
              "      quickchartButtonEl.classList.add('colab-df-quickchart-complete');\n",
              "    }\n",
              "    (() => {\n",
              "      let quickchartButtonEl =\n",
              "        document.querySelector('#df-cfeeaf8c-7acd-45e9-b16d-b9e7d1f9ac9e button');\n",
              "      quickchartButtonEl.style.display =\n",
              "        google.colab.kernel.accessAllowed ? 'block' : 'none';\n",
              "    })();\n",
              "  </script>\n",
              "</div>\n",
              "\n",
              "    </div>\n",
              "  </div>\n"
            ],
            "application/vnd.google.colaboratory.intrinsic+json": {
              "type": "dataframe",
              "variable_name": "df_mbp",
              "summary": "{\n  \"name\": \"df_mbp\",\n  \"rows\": 1836,\n  \"fields\": [\n    {\n      \"column\": \"Phone Name\",\n      \"properties\": {\n        \"dtype\": \"string\",\n        \"num_unique_values\": 1507,\n        \"samples\": [\n          \"SAMSUNG Galaxy M32 Prime Edition (Black, 64 GB)\",\n          \"Nokia 216 DS 2020\",\n          \"Apple iPhone XR (Coral, 64 GB) (Includes EarPods, Power Adapter)\"\n        ],\n        \"semantic_type\": \"\",\n        \"description\": \"\"\n      }\n    },\n    {\n      \"column\": \"Rating ?/5\",\n      \"properties\": {\n        \"dtype\": \"number\",\n        \"std\": 0.5439121176090435,\n        \"min\": 0.0,\n        \"max\": 4.8,\n        \"num_unique_values\": 22,\n        \"samples\": [\n          4.2,\n          4.8,\n          3.7\n        ],\n        \"semantic_type\": \"\",\n        \"description\": \"\"\n      }\n    },\n    {\n      \"column\": \"Number of Ratings\",\n      \"properties\": {\n        \"dtype\": \"category\",\n        \"num_unique_values\": 717,\n        \"samples\": [\n          \"47,287\",\n          \"2,702\",\n          \"2,56,360\"\n        ],\n        \"semantic_type\": \"\",\n        \"description\": \"\"\n      }\n    },\n    {\n      \"column\": \"RAM\",\n      \"properties\": {\n        \"dtype\": \"category\",\n        \"num_unique_values\": 46,\n        \"samples\": [\n          \"1 MB ROM\",\n          \"cm Display\",\n          \"32 MB RAM\"\n        ],\n        \"semantic_type\": \"\",\n        \"description\": \"\"\n      }\n    },\n    {\n      \"column\": \"ROM/Storage\",\n      \"properties\": {\n        \"dtype\": \"category\",\n        \"num_unique_values\": 27,\n        \"samples\": [\n          \"153 MB ROM\",\n          \"16 GB ROM\",\n          \"512 GB ROM\"\n        ],\n        \"semantic_type\": \"\",\n        \"description\": \"\"\n      }\n    },\n    {\n      \"column\": \"Back/Rare Camera\",\n      \"properties\": {\n        \"dtype\": \"category\",\n        \"num_unique_values\": 174,\n        \"samples\": [\n          \"50MP + 2MP Depth + AI Lens\",\n          \"12.3MP Rear Camera\",\n          \"12MP + 2MP\"\n        ],\n        \"semantic_type\": \"\",\n        \"description\": \"\"\n      }\n    },\n    {\n      \"column\": \"Front Camera\",\n      \"properties\": {\n        \"dtype\": \"category\",\n        \"num_unique_values\": 33,\n        \"samples\": [\n          \"13MP + 5MP Dual Front Camera\",\n          \"32MP + 2MP Dual Front Camera\",\n          \"4MP Front Camera\"\n        ],\n        \"semantic_type\": \"\",\n        \"description\": \"\"\n      }\n    },\n    {\n      \"column\": \"Battery\",\n      \"properties\": {\n        \"dtype\": \"category\",\n        \"num_unique_values\": 102,\n        \"samples\": [\n          \"4800 mAh\",\n          \"MediaTek mAh\",\n          \"3010 mAh\"\n        ],\n        \"semantic_type\": \"\",\n        \"description\": \"\"\n      }\n    },\n    {\n      \"column\": \"Processor\",\n      \"properties\": {\n        \"dtype\": \"category\",\n        \"num_unique_values\": 332,\n        \"samples\": [\n          \"Unisoc T612 Processor\",\n          \"G37 Processor\",\n          \"1 Year Manufacturer Warranty\"\n        ],\n        \"semantic_type\": \"\",\n        \"description\": \"\"\n      }\n    },\n    {\n      \"column\": \"Price in INR\",\n      \"properties\": {\n        \"dtype\": \"category\",\n        \"num_unique_values\": 519,\n        \"samples\": [\n          \"\\u20b954,999\",\n          \"\\u20b91,10,999\",\n          \"\\u20b98,999\"\n        ],\n        \"semantic_type\": \"\",\n        \"description\": \"\"\n      }\n    },\n    {\n      \"column\": \"Date of Scraping\",\n      \"properties\": {\n        \"dtype\": \"object\",\n        \"num_unique_values\": 1,\n        \"samples\": [\n          \"2023-06-17\"\n        ],\n        \"semantic_type\": \"\",\n        \"description\": \"\"\n      }\n    }\n  ]\n}"
            }
          },
          "metadata": {},
          "execution_count": 2
        }
      ]
    },
    {
      "cell_type": "code",
      "source": [
        "rm = ['Date of Scraping']\n",
        "df_mbp.drop(rm, axis=1, inplace=True)\n",
        "df_mbp.head(10)"
      ],
      "metadata": {
        "colab": {
          "base_uri": "https://localhost:8080/",
          "height": 1000
        },
        "id": "HpvgtCZGDlS8",
        "outputId": "d073e360-0fae-482a-922e-9ec4aa71fdd5"
      },
      "execution_count": 3,
      "outputs": [
        {
          "output_type": "execute_result",
          "data": {
            "text/plain": [
              "                        Phone Name  Rating ?/5 Number of Ratings       RAM  \\\n",
              "0     POCO C50 (Royal Blue, 32 GB)         4.2            33,561  2 GB RAM   \n",
              "1    POCO M4 5G (Cool Blue, 64 GB)         4.2            77,128  4 GB RAM   \n",
              "2     POCO C51 (Royal Blue, 64 GB)         4.3            15,175  4 GB RAM   \n",
              "3      POCO C55 (Cool Blue, 64 GB)         4.2            22,621  4 GB RAM   \n",
              "4    POCO C51 (Power Black, 64 GB)         4.3            15,175  4 GB RAM   \n",
              "5  POCO M4 5G (Power Black, 64 GB)         4.2            77,128  4 GB RAM   \n",
              "6    POCO C55 (Power Black, 64 GB)         4.2            22,621  4 GB RAM   \n",
              "7   POCO C55 (Forest Green, 64 GB)         4.2            22,621  4 GB RAM   \n",
              "8     POCO C55 (Cool Blue, 128 GB)         4.1            13,647  6 GB RAM   \n",
              "9      POCO M4 5G (Yellow, 128 GB)         4.2            40,525  6 GB RAM   \n",
              "\n",
              "  ROM/Storage       Back/Rare Camera      Front Camera   Battery  \\\n",
              "0   32 GB ROM        8MP Dual Camera  5MP Front Camera  5000 mAh   \n",
              "1   64 GB ROM             50MP + 2MP  8MP Front Camera  5000 mAh   \n",
              "2   64 GB ROM   8MP Dual Rear Camera  5MP Front Camera  5000 mAh   \n",
              "3   64 GB ROM  50MP Dual Rear Camera  5MP Front Camera  5000 mAh   \n",
              "4   64 GB ROM   8MP Dual Rear Camera  5MP Front Camera  5000 mAh   \n",
              "5   64 GB ROM             50MP + 2MP  8MP Front Camera  5000 mAh   \n",
              "6   64 GB ROM  50MP Dual Rear Camera  5MP Front Camera  5000 mAh   \n",
              "7   64 GB ROM  50MP Dual Rear Camera  5MP Front Camera  5000 mAh   \n",
              "8  128 GB ROM  50MP Dual Rear Camera  5MP Front Camera  5000 mAh   \n",
              "9  128 GB ROM             50MP + 2MP  8MP Front Camera  5000 mAh   \n",
              "\n",
              "                                           Processor Price in INR  \n",
              "0  Mediatek Helio A22 Processor, Upto 2.0 GHz Pro...       ₹5,649  \n",
              "1                   Mediatek Dimensity 700 Processor      ₹11,999  \n",
              "2                                Helio G36 Processor       ₹6,999  \n",
              "3                       Mediatek Helio G85 Processor       ₹7,749  \n",
              "4                                Helio G36 Processor       ₹6,999  \n",
              "5                   Mediatek Dimensity 700 Processor      ₹11,999  \n",
              "6                       Mediatek Helio G85 Processor       ₹7,749  \n",
              "7                       Mediatek Helio G85 Processor       ₹7,749  \n",
              "8                       Mediatek Helio G85 Processor       ₹9,249  \n",
              "9                   Mediatek Dimensity 700 Processor      ₹13,999  "
            ],
            "text/html": [
              "\n",
              "  <div id=\"df-0000ad04-18e4-4901-811f-dba899ec4dda\" class=\"colab-df-container\">\n",
              "    <div>\n",
              "<style scoped>\n",
              "    .dataframe tbody tr th:only-of-type {\n",
              "        vertical-align: middle;\n",
              "    }\n",
              "\n",
              "    .dataframe tbody tr th {\n",
              "        vertical-align: top;\n",
              "    }\n",
              "\n",
              "    .dataframe thead th {\n",
              "        text-align: right;\n",
              "    }\n",
              "</style>\n",
              "<table border=\"1\" class=\"dataframe\">\n",
              "  <thead>\n",
              "    <tr style=\"text-align: right;\">\n",
              "      <th></th>\n",
              "      <th>Phone Name</th>\n",
              "      <th>Rating ?/5</th>\n",
              "      <th>Number of Ratings</th>\n",
              "      <th>RAM</th>\n",
              "      <th>ROM/Storage</th>\n",
              "      <th>Back/Rare Camera</th>\n",
              "      <th>Front Camera</th>\n",
              "      <th>Battery</th>\n",
              "      <th>Processor</th>\n",
              "      <th>Price in INR</th>\n",
              "    </tr>\n",
              "  </thead>\n",
              "  <tbody>\n",
              "    <tr>\n",
              "      <th>0</th>\n",
              "      <td>POCO C50 (Royal Blue, 32 GB)</td>\n",
              "      <td>4.2</td>\n",
              "      <td>33,561</td>\n",
              "      <td>2 GB RAM</td>\n",
              "      <td>32 GB ROM</td>\n",
              "      <td>8MP Dual Camera</td>\n",
              "      <td>5MP Front Camera</td>\n",
              "      <td>5000 mAh</td>\n",
              "      <td>Mediatek Helio A22 Processor, Upto 2.0 GHz Pro...</td>\n",
              "      <td>₹5,649</td>\n",
              "    </tr>\n",
              "    <tr>\n",
              "      <th>1</th>\n",
              "      <td>POCO M4 5G (Cool Blue, 64 GB)</td>\n",
              "      <td>4.2</td>\n",
              "      <td>77,128</td>\n",
              "      <td>4 GB RAM</td>\n",
              "      <td>64 GB ROM</td>\n",
              "      <td>50MP + 2MP</td>\n",
              "      <td>8MP Front Camera</td>\n",
              "      <td>5000 mAh</td>\n",
              "      <td>Mediatek Dimensity 700 Processor</td>\n",
              "      <td>₹11,999</td>\n",
              "    </tr>\n",
              "    <tr>\n",
              "      <th>2</th>\n",
              "      <td>POCO C51 (Royal Blue, 64 GB)</td>\n",
              "      <td>4.3</td>\n",
              "      <td>15,175</td>\n",
              "      <td>4 GB RAM</td>\n",
              "      <td>64 GB ROM</td>\n",
              "      <td>8MP Dual Rear Camera</td>\n",
              "      <td>5MP Front Camera</td>\n",
              "      <td>5000 mAh</td>\n",
              "      <td>Helio G36 Processor</td>\n",
              "      <td>₹6,999</td>\n",
              "    </tr>\n",
              "    <tr>\n",
              "      <th>3</th>\n",
              "      <td>POCO C55 (Cool Blue, 64 GB)</td>\n",
              "      <td>4.2</td>\n",
              "      <td>22,621</td>\n",
              "      <td>4 GB RAM</td>\n",
              "      <td>64 GB ROM</td>\n",
              "      <td>50MP Dual Rear Camera</td>\n",
              "      <td>5MP Front Camera</td>\n",
              "      <td>5000 mAh</td>\n",
              "      <td>Mediatek Helio G85 Processor</td>\n",
              "      <td>₹7,749</td>\n",
              "    </tr>\n",
              "    <tr>\n",
              "      <th>4</th>\n",
              "      <td>POCO C51 (Power Black, 64 GB)</td>\n",
              "      <td>4.3</td>\n",
              "      <td>15,175</td>\n",
              "      <td>4 GB RAM</td>\n",
              "      <td>64 GB ROM</td>\n",
              "      <td>8MP Dual Rear Camera</td>\n",
              "      <td>5MP Front Camera</td>\n",
              "      <td>5000 mAh</td>\n",
              "      <td>Helio G36 Processor</td>\n",
              "      <td>₹6,999</td>\n",
              "    </tr>\n",
              "    <tr>\n",
              "      <th>5</th>\n",
              "      <td>POCO M4 5G (Power Black, 64 GB)</td>\n",
              "      <td>4.2</td>\n",
              "      <td>77,128</td>\n",
              "      <td>4 GB RAM</td>\n",
              "      <td>64 GB ROM</td>\n",
              "      <td>50MP + 2MP</td>\n",
              "      <td>8MP Front Camera</td>\n",
              "      <td>5000 mAh</td>\n",
              "      <td>Mediatek Dimensity 700 Processor</td>\n",
              "      <td>₹11,999</td>\n",
              "    </tr>\n",
              "    <tr>\n",
              "      <th>6</th>\n",
              "      <td>POCO C55 (Power Black, 64 GB)</td>\n",
              "      <td>4.2</td>\n",
              "      <td>22,621</td>\n",
              "      <td>4 GB RAM</td>\n",
              "      <td>64 GB ROM</td>\n",
              "      <td>50MP Dual Rear Camera</td>\n",
              "      <td>5MP Front Camera</td>\n",
              "      <td>5000 mAh</td>\n",
              "      <td>Mediatek Helio G85 Processor</td>\n",
              "      <td>₹7,749</td>\n",
              "    </tr>\n",
              "    <tr>\n",
              "      <th>7</th>\n",
              "      <td>POCO C55 (Forest Green, 64 GB)</td>\n",
              "      <td>4.2</td>\n",
              "      <td>22,621</td>\n",
              "      <td>4 GB RAM</td>\n",
              "      <td>64 GB ROM</td>\n",
              "      <td>50MP Dual Rear Camera</td>\n",
              "      <td>5MP Front Camera</td>\n",
              "      <td>5000 mAh</td>\n",
              "      <td>Mediatek Helio G85 Processor</td>\n",
              "      <td>₹7,749</td>\n",
              "    </tr>\n",
              "    <tr>\n",
              "      <th>8</th>\n",
              "      <td>POCO C55 (Cool Blue, 128 GB)</td>\n",
              "      <td>4.1</td>\n",
              "      <td>13,647</td>\n",
              "      <td>6 GB RAM</td>\n",
              "      <td>128 GB ROM</td>\n",
              "      <td>50MP Dual Rear Camera</td>\n",
              "      <td>5MP Front Camera</td>\n",
              "      <td>5000 mAh</td>\n",
              "      <td>Mediatek Helio G85 Processor</td>\n",
              "      <td>₹9,249</td>\n",
              "    </tr>\n",
              "    <tr>\n",
              "      <th>9</th>\n",
              "      <td>POCO M4 5G (Yellow, 128 GB)</td>\n",
              "      <td>4.2</td>\n",
              "      <td>40,525</td>\n",
              "      <td>6 GB RAM</td>\n",
              "      <td>128 GB ROM</td>\n",
              "      <td>50MP + 2MP</td>\n",
              "      <td>8MP Front Camera</td>\n",
              "      <td>5000 mAh</td>\n",
              "      <td>Mediatek Dimensity 700 Processor</td>\n",
              "      <td>₹13,999</td>\n",
              "    </tr>\n",
              "  </tbody>\n",
              "</table>\n",
              "</div>\n",
              "    <div class=\"colab-df-buttons\">\n",
              "\n",
              "  <div class=\"colab-df-container\">\n",
              "    <button class=\"colab-df-convert\" onclick=\"convertToInteractive('df-0000ad04-18e4-4901-811f-dba899ec4dda')\"\n",
              "            title=\"Convert this dataframe to an interactive table.\"\n",
              "            style=\"display:none;\">\n",
              "\n",
              "  <svg xmlns=\"http://www.w3.org/2000/svg\" height=\"24px\" viewBox=\"0 -960 960 960\">\n",
              "    <path d=\"M120-120v-720h720v720H120Zm60-500h600v-160H180v160Zm220 220h160v-160H400v160Zm0 220h160v-160H400v160ZM180-400h160v-160H180v160Zm440 0h160v-160H620v160ZM180-180h160v-160H180v160Zm440 0h160v-160H620v160Z\"/>\n",
              "  </svg>\n",
              "    </button>\n",
              "\n",
              "  <style>\n",
              "    .colab-df-container {\n",
              "      display:flex;\n",
              "      gap: 12px;\n",
              "    }\n",
              "\n",
              "    .colab-df-convert {\n",
              "      background-color: #E8F0FE;\n",
              "      border: none;\n",
              "      border-radius: 50%;\n",
              "      cursor: pointer;\n",
              "      display: none;\n",
              "      fill: #1967D2;\n",
              "      height: 32px;\n",
              "      padding: 0 0 0 0;\n",
              "      width: 32px;\n",
              "    }\n",
              "\n",
              "    .colab-df-convert:hover {\n",
              "      background-color: #E2EBFA;\n",
              "      box-shadow: 0px 1px 2px rgba(60, 64, 67, 0.3), 0px 1px 3px 1px rgba(60, 64, 67, 0.15);\n",
              "      fill: #174EA6;\n",
              "    }\n",
              "\n",
              "    .colab-df-buttons div {\n",
              "      margin-bottom: 4px;\n",
              "    }\n",
              "\n",
              "    [theme=dark] .colab-df-convert {\n",
              "      background-color: #3B4455;\n",
              "      fill: #D2E3FC;\n",
              "    }\n",
              "\n",
              "    [theme=dark] .colab-df-convert:hover {\n",
              "      background-color: #434B5C;\n",
              "      box-shadow: 0px 1px 3px 1px rgba(0, 0, 0, 0.15);\n",
              "      filter: drop-shadow(0px 1px 2px rgba(0, 0, 0, 0.3));\n",
              "      fill: #FFFFFF;\n",
              "    }\n",
              "  </style>\n",
              "\n",
              "    <script>\n",
              "      const buttonEl =\n",
              "        document.querySelector('#df-0000ad04-18e4-4901-811f-dba899ec4dda button.colab-df-convert');\n",
              "      buttonEl.style.display =\n",
              "        google.colab.kernel.accessAllowed ? 'block' : 'none';\n",
              "\n",
              "      async function convertToInteractive(key) {\n",
              "        const element = document.querySelector('#df-0000ad04-18e4-4901-811f-dba899ec4dda');\n",
              "        const dataTable =\n",
              "          await google.colab.kernel.invokeFunction('convertToInteractive',\n",
              "                                                    [key], {});\n",
              "        if (!dataTable) return;\n",
              "\n",
              "        const docLinkHtml = 'Like what you see? Visit the ' +\n",
              "          '<a target=\"_blank\" href=https://colab.research.google.com/notebooks/data_table.ipynb>data table notebook</a>'\n",
              "          + ' to learn more about interactive tables.';\n",
              "        element.innerHTML = '';\n",
              "        dataTable['output_type'] = 'display_data';\n",
              "        await google.colab.output.renderOutput(dataTable, element);\n",
              "        const docLink = document.createElement('div');\n",
              "        docLink.innerHTML = docLinkHtml;\n",
              "        element.appendChild(docLink);\n",
              "      }\n",
              "    </script>\n",
              "  </div>\n",
              "\n",
              "\n",
              "<div id=\"df-f35d13ad-2a1f-476a-9cbc-4937c4768402\">\n",
              "  <button class=\"colab-df-quickchart\" onclick=\"quickchart('df-f35d13ad-2a1f-476a-9cbc-4937c4768402')\"\n",
              "            title=\"Suggest charts\"\n",
              "            style=\"display:none;\">\n",
              "\n",
              "<svg xmlns=\"http://www.w3.org/2000/svg\" height=\"24px\"viewBox=\"0 0 24 24\"\n",
              "     width=\"24px\">\n",
              "    <g>\n",
              "        <path d=\"M19 3H5c-1.1 0-2 .9-2 2v14c0 1.1.9 2 2 2h14c1.1 0 2-.9 2-2V5c0-1.1-.9-2-2-2zM9 17H7v-7h2v7zm4 0h-2V7h2v10zm4 0h-2v-4h2v4z\"/>\n",
              "    </g>\n",
              "</svg>\n",
              "  </button>\n",
              "\n",
              "<style>\n",
              "  .colab-df-quickchart {\n",
              "      --bg-color: #E8F0FE;\n",
              "      --fill-color: #1967D2;\n",
              "      --hover-bg-color: #E2EBFA;\n",
              "      --hover-fill-color: #174EA6;\n",
              "      --disabled-fill-color: #AAA;\n",
              "      --disabled-bg-color: #DDD;\n",
              "  }\n",
              "\n",
              "  [theme=dark] .colab-df-quickchart {\n",
              "      --bg-color: #3B4455;\n",
              "      --fill-color: #D2E3FC;\n",
              "      --hover-bg-color: #434B5C;\n",
              "      --hover-fill-color: #FFFFFF;\n",
              "      --disabled-bg-color: #3B4455;\n",
              "      --disabled-fill-color: #666;\n",
              "  }\n",
              "\n",
              "  .colab-df-quickchart {\n",
              "    background-color: var(--bg-color);\n",
              "    border: none;\n",
              "    border-radius: 50%;\n",
              "    cursor: pointer;\n",
              "    display: none;\n",
              "    fill: var(--fill-color);\n",
              "    height: 32px;\n",
              "    padding: 0;\n",
              "    width: 32px;\n",
              "  }\n",
              "\n",
              "  .colab-df-quickchart:hover {\n",
              "    background-color: var(--hover-bg-color);\n",
              "    box-shadow: 0 1px 2px rgba(60, 64, 67, 0.3), 0 1px 3px 1px rgba(60, 64, 67, 0.15);\n",
              "    fill: var(--button-hover-fill-color);\n",
              "  }\n",
              "\n",
              "  .colab-df-quickchart-complete:disabled,\n",
              "  .colab-df-quickchart-complete:disabled:hover {\n",
              "    background-color: var(--disabled-bg-color);\n",
              "    fill: var(--disabled-fill-color);\n",
              "    box-shadow: none;\n",
              "  }\n",
              "\n",
              "  .colab-df-spinner {\n",
              "    border: 2px solid var(--fill-color);\n",
              "    border-color: transparent;\n",
              "    border-bottom-color: var(--fill-color);\n",
              "    animation:\n",
              "      spin 1s steps(1) infinite;\n",
              "  }\n",
              "\n",
              "  @keyframes spin {\n",
              "    0% {\n",
              "      border-color: transparent;\n",
              "      border-bottom-color: var(--fill-color);\n",
              "      border-left-color: var(--fill-color);\n",
              "    }\n",
              "    20% {\n",
              "      border-color: transparent;\n",
              "      border-left-color: var(--fill-color);\n",
              "      border-top-color: var(--fill-color);\n",
              "    }\n",
              "    30% {\n",
              "      border-color: transparent;\n",
              "      border-left-color: var(--fill-color);\n",
              "      border-top-color: var(--fill-color);\n",
              "      border-right-color: var(--fill-color);\n",
              "    }\n",
              "    40% {\n",
              "      border-color: transparent;\n",
              "      border-right-color: var(--fill-color);\n",
              "      border-top-color: var(--fill-color);\n",
              "    }\n",
              "    60% {\n",
              "      border-color: transparent;\n",
              "      border-right-color: var(--fill-color);\n",
              "    }\n",
              "    80% {\n",
              "      border-color: transparent;\n",
              "      border-right-color: var(--fill-color);\n",
              "      border-bottom-color: var(--fill-color);\n",
              "    }\n",
              "    90% {\n",
              "      border-color: transparent;\n",
              "      border-bottom-color: var(--fill-color);\n",
              "    }\n",
              "  }\n",
              "</style>\n",
              "\n",
              "  <script>\n",
              "    async function quickchart(key) {\n",
              "      const quickchartButtonEl =\n",
              "        document.querySelector('#' + key + ' button');\n",
              "      quickchartButtonEl.disabled = true;  // To prevent multiple clicks.\n",
              "      quickchartButtonEl.classList.add('colab-df-spinner');\n",
              "      try {\n",
              "        const charts = await google.colab.kernel.invokeFunction(\n",
              "            'suggestCharts', [key], {});\n",
              "      } catch (error) {\n",
              "        console.error('Error during call to suggestCharts:', error);\n",
              "      }\n",
              "      quickchartButtonEl.classList.remove('colab-df-spinner');\n",
              "      quickchartButtonEl.classList.add('colab-df-quickchart-complete');\n",
              "    }\n",
              "    (() => {\n",
              "      let quickchartButtonEl =\n",
              "        document.querySelector('#df-f35d13ad-2a1f-476a-9cbc-4937c4768402 button');\n",
              "      quickchartButtonEl.style.display =\n",
              "        google.colab.kernel.accessAllowed ? 'block' : 'none';\n",
              "    })();\n",
              "  </script>\n",
              "</div>\n",
              "\n",
              "    </div>\n",
              "  </div>\n"
            ],
            "application/vnd.google.colaboratory.intrinsic+json": {
              "type": "dataframe",
              "variable_name": "df_mbp",
              "summary": "{\n  \"name\": \"df_mbp\",\n  \"rows\": 1836,\n  \"fields\": [\n    {\n      \"column\": \"Phone Name\",\n      \"properties\": {\n        \"dtype\": \"string\",\n        \"num_unique_values\": 1507,\n        \"samples\": [\n          \"SAMSUNG Galaxy M32 Prime Edition (Black, 64 GB)\",\n          \"Nokia 216 DS 2020\",\n          \"Apple iPhone XR (Coral, 64 GB) (Includes EarPods, Power Adapter)\"\n        ],\n        \"semantic_type\": \"\",\n        \"description\": \"\"\n      }\n    },\n    {\n      \"column\": \"Rating ?/5\",\n      \"properties\": {\n        \"dtype\": \"number\",\n        \"std\": 0.5439121176090435,\n        \"min\": 0.0,\n        \"max\": 4.8,\n        \"num_unique_values\": 22,\n        \"samples\": [\n          4.2,\n          4.8,\n          3.7\n        ],\n        \"semantic_type\": \"\",\n        \"description\": \"\"\n      }\n    },\n    {\n      \"column\": \"Number of Ratings\",\n      \"properties\": {\n        \"dtype\": \"category\",\n        \"num_unique_values\": 717,\n        \"samples\": [\n          \"47,287\",\n          \"2,702\",\n          \"2,56,360\"\n        ],\n        \"semantic_type\": \"\",\n        \"description\": \"\"\n      }\n    },\n    {\n      \"column\": \"RAM\",\n      \"properties\": {\n        \"dtype\": \"category\",\n        \"num_unique_values\": 46,\n        \"samples\": [\n          \"1 MB ROM\",\n          \"cm Display\",\n          \"32 MB RAM\"\n        ],\n        \"semantic_type\": \"\",\n        \"description\": \"\"\n      }\n    },\n    {\n      \"column\": \"ROM/Storage\",\n      \"properties\": {\n        \"dtype\": \"category\",\n        \"num_unique_values\": 27,\n        \"samples\": [\n          \"153 MB ROM\",\n          \"16 GB ROM\",\n          \"512 GB ROM\"\n        ],\n        \"semantic_type\": \"\",\n        \"description\": \"\"\n      }\n    },\n    {\n      \"column\": \"Back/Rare Camera\",\n      \"properties\": {\n        \"dtype\": \"category\",\n        \"num_unique_values\": 174,\n        \"samples\": [\n          \"50MP + 2MP Depth + AI Lens\",\n          \"12.3MP Rear Camera\",\n          \"12MP + 2MP\"\n        ],\n        \"semantic_type\": \"\",\n        \"description\": \"\"\n      }\n    },\n    {\n      \"column\": \"Front Camera\",\n      \"properties\": {\n        \"dtype\": \"category\",\n        \"num_unique_values\": 33,\n        \"samples\": [\n          \"13MP + 5MP Dual Front Camera\",\n          \"32MP + 2MP Dual Front Camera\",\n          \"4MP Front Camera\"\n        ],\n        \"semantic_type\": \"\",\n        \"description\": \"\"\n      }\n    },\n    {\n      \"column\": \"Battery\",\n      \"properties\": {\n        \"dtype\": \"category\",\n        \"num_unique_values\": 102,\n        \"samples\": [\n          \"4800 mAh\",\n          \"MediaTek mAh\",\n          \"3010 mAh\"\n        ],\n        \"semantic_type\": \"\",\n        \"description\": \"\"\n      }\n    },\n    {\n      \"column\": \"Processor\",\n      \"properties\": {\n        \"dtype\": \"category\",\n        \"num_unique_values\": 332,\n        \"samples\": [\n          \"Unisoc T612 Processor\",\n          \"G37 Processor\",\n          \"1 Year Manufacturer Warranty\"\n        ],\n        \"semantic_type\": \"\",\n        \"description\": \"\"\n      }\n    },\n    {\n      \"column\": \"Price in INR\",\n      \"properties\": {\n        \"dtype\": \"category\",\n        \"num_unique_values\": 519,\n        \"samples\": [\n          \"\\u20b954,999\",\n          \"\\u20b91,10,999\",\n          \"\\u20b98,999\"\n        ],\n        \"semantic_type\": \"\",\n        \"description\": \"\"\n      }\n    }\n  ]\n}"
            }
          },
          "metadata": {},
          "execution_count": 3
        }
      ]
    },
    {
      "cell_type": "code",
      "source": [
        "df_mbp.info()"
      ],
      "metadata": {
        "colab": {
          "base_uri": "https://localhost:8080/"
        },
        "id": "UI5ohLCbM1az",
        "outputId": "c1a3bfc8-4187-4de8-801c-ebc2a5a53383"
      },
      "execution_count": 4,
      "outputs": [
        {
          "output_type": "stream",
          "name": "stdout",
          "text": [
            "<class 'pandas.core.frame.DataFrame'>\n",
            "RangeIndex: 1836 entries, 0 to 1835\n",
            "Data columns (total 10 columns):\n",
            " #   Column             Non-Null Count  Dtype  \n",
            "---  ------             --------------  -----  \n",
            " 0   Phone Name         1836 non-null   object \n",
            " 1   Rating ?/5         1836 non-null   float64\n",
            " 2   Number of Ratings  1836 non-null   object \n",
            " 3   RAM                1836 non-null   object \n",
            " 4   ROM/Storage        1662 non-null   object \n",
            " 5   Back/Rare Camera   1827 non-null   object \n",
            " 6   Front Camera       1435 non-null   object \n",
            " 7   Battery            1826 non-null   object \n",
            " 8   Processor          1781 non-null   object \n",
            " 9   Price in INR       1836 non-null   object \n",
            "dtypes: float64(1), object(9)\n",
            "memory usage: 143.6+ KB\n"
          ]
        }
      ]
    },
    {
      "cell_type": "code",
      "source": [
        "df_mbp.isna().sum()"
      ],
      "metadata": {
        "colab": {
          "base_uri": "https://localhost:8080/",
          "height": 397
        },
        "id": "D-7a-IZ5NU42",
        "outputId": "17fa0dd7-9bb6-40ad-ae87-e4268dd8dfbc"
      },
      "execution_count": 5,
      "outputs": [
        {
          "output_type": "execute_result",
          "data": {
            "text/plain": [
              "Phone Name             0\n",
              "Rating ?/5             0\n",
              "Number of Ratings      0\n",
              "RAM                    0\n",
              "ROM/Storage          174\n",
              "Back/Rare Camera       9\n",
              "Front Camera         401\n",
              "Battery               10\n",
              "Processor             55\n",
              "Price in INR           0\n",
              "dtype: int64"
            ],
            "text/html": [
              "<div>\n",
              "<style scoped>\n",
              "    .dataframe tbody tr th:only-of-type {\n",
              "        vertical-align: middle;\n",
              "    }\n",
              "\n",
              "    .dataframe tbody tr th {\n",
              "        vertical-align: top;\n",
              "    }\n",
              "\n",
              "    .dataframe thead th {\n",
              "        text-align: right;\n",
              "    }\n",
              "</style>\n",
              "<table border=\"1\" class=\"dataframe\">\n",
              "  <thead>\n",
              "    <tr style=\"text-align: right;\">\n",
              "      <th></th>\n",
              "      <th>0</th>\n",
              "    </tr>\n",
              "  </thead>\n",
              "  <tbody>\n",
              "    <tr>\n",
              "      <th>Phone Name</th>\n",
              "      <td>0</td>\n",
              "    </tr>\n",
              "    <tr>\n",
              "      <th>Rating ?/5</th>\n",
              "      <td>0</td>\n",
              "    </tr>\n",
              "    <tr>\n",
              "      <th>Number of Ratings</th>\n",
              "      <td>0</td>\n",
              "    </tr>\n",
              "    <tr>\n",
              "      <th>RAM</th>\n",
              "      <td>0</td>\n",
              "    </tr>\n",
              "    <tr>\n",
              "      <th>ROM/Storage</th>\n",
              "      <td>174</td>\n",
              "    </tr>\n",
              "    <tr>\n",
              "      <th>Back/Rare Camera</th>\n",
              "      <td>9</td>\n",
              "    </tr>\n",
              "    <tr>\n",
              "      <th>Front Camera</th>\n",
              "      <td>401</td>\n",
              "    </tr>\n",
              "    <tr>\n",
              "      <th>Battery</th>\n",
              "      <td>10</td>\n",
              "    </tr>\n",
              "    <tr>\n",
              "      <th>Processor</th>\n",
              "      <td>55</td>\n",
              "    </tr>\n",
              "    <tr>\n",
              "      <th>Price in INR</th>\n",
              "      <td>0</td>\n",
              "    </tr>\n",
              "  </tbody>\n",
              "</table>\n",
              "</div><br><label><b>dtype:</b> int64</label>"
            ]
          },
          "metadata": {},
          "execution_count": 5
        }
      ]
    },
    {
      "cell_type": "code",
      "source": [
        "df_mbp.duplicated().sum()"
      ],
      "metadata": {
        "colab": {
          "base_uri": "https://localhost:8080/"
        },
        "id": "bLB6ZTp7NamS",
        "outputId": "a615cae0-ae31-4d5f-ca93-5911efc4e325"
      },
      "execution_count": 6,
      "outputs": [
        {
          "output_type": "execute_result",
          "data": {
            "text/plain": [
              "69"
            ]
          },
          "metadata": {},
          "execution_count": 6
        }
      ]
    },
    {
      "cell_type": "code",
      "source": [
        "df_mbp.drop_duplicates(inplace = True)\n",
        "df_mbp.duplicated().sum()"
      ],
      "metadata": {
        "colab": {
          "base_uri": "https://localhost:8080/"
        },
        "id": "3DKLkJdJNiHH",
        "outputId": "3c887a6d-8a52-4a3c-f7d5-64877a1b1c52"
      },
      "execution_count": 7,
      "outputs": [
        {
          "output_type": "execute_result",
          "data": {
            "text/plain": [
              "0"
            ]
          },
          "metadata": {},
          "execution_count": 7
        }
      ]
    },
    {
      "cell_type": "code",
      "source": [
        "fix = ['Number of Ratings']\n",
        "df_mbp[fix] = df_mbp[fix].apply(pd.to_numeric, errors='coerce')\n",
        "df_mbp.info()"
      ],
      "metadata": {
        "colab": {
          "base_uri": "https://localhost:8080/"
        },
        "id": "yXTy-7G-Nwdz",
        "outputId": "ec2eda7c-1cf0-469c-e448-59d37f03b620"
      },
      "execution_count": 8,
      "outputs": [
        {
          "output_type": "stream",
          "name": "stdout",
          "text": [
            "<class 'pandas.core.frame.DataFrame'>\n",
            "Index: 1767 entries, 0 to 1835\n",
            "Data columns (total 10 columns):\n",
            " #   Column             Non-Null Count  Dtype  \n",
            "---  ------             --------------  -----  \n",
            " 0   Phone Name         1767 non-null   object \n",
            " 1   Rating ?/5         1767 non-null   float64\n",
            " 2   Number of Ratings  366 non-null    float64\n",
            " 3   RAM                1767 non-null   object \n",
            " 4   ROM/Storage        1605 non-null   object \n",
            " 5   Back/Rare Camera   1759 non-null   object \n",
            " 6   Front Camera       1386 non-null   object \n",
            " 7   Battery            1758 non-null   object \n",
            " 8   Processor          1718 non-null   object \n",
            " 9   Price in INR       1767 non-null   object \n",
            "dtypes: float64(2), object(8)\n",
            "memory usage: 151.9+ KB\n"
          ]
        }
      ]
    },
    {
      "cell_type": "code",
      "source": [
        "num = ['Rating ?/5', 'Number of Ratings']\n",
        "plt.figure(figsize=(12, 6))\n",
        "sns.boxplot(data=df_mbp[num])\n",
        "plt.show()"
      ],
      "metadata": {
        "colab": {
          "base_uri": "https://localhost:8080/",
          "height": 453
        },
        "id": "4sY0-FaVSdP7",
        "outputId": "56021efc-6292-4a43-92af-151dd8b7e72e"
      },
      "execution_count": 9,
      "outputs": [
        {
          "output_type": "display_data",
          "data": {
            "text/plain": [
              "<Figure size 1200x600 with 1 Axes>"
            ],
            "image/png": "[encoded data removed]"
          },
          "metadata": {}
        }
      ]
    },
    {
      "cell_type": "code",
      "source": [
        "sns.boxplot(data=df_mbp['Rating ?/5'])\n",
        "plt.title('Rating ?/5 Boxplot')\n",
        "plt.show()\n",
        "\n",
        "sns.boxplot(data=df_mbp['Number of Ratings'])\n",
        "plt.title('Number of Ratings Boxplot')\n",
        "plt.show()"
      ],
      "metadata": {
        "colab": {
          "base_uri": "https://localhost:8080/",
          "height": 849
        },
        "id": "LZabLWKXXUbD",
        "outputId": "df16bc30-7d59-4d31-9362-51f69a622625"
      },
      "execution_count": 10,
      "outputs": [
        {
          "output_type": "display_data",
          "data": {
            "text/plain": [
              "<Figure size 640x480 with 1 Axes>"
            ],
            "image/png": "[encoded data removed]"
          },
          "metadata": {}
        },
        {
          "output_type": "display_data",
          "data": {
            "text/plain": [
              "<Figure size 640x480 with 1 Axes>"
            ],
            "image/png": "[encoded data removed]"
          },
          "metadata": {}
        }
      ]
    },
    {
      "cell_type": "code",
      "source": [
        "df_mbp[num].hist(bins = 30, figsize = (20, 6))\n",
        "plt.show()"
      ],
      "metadata": {
        "colab": {
          "base_uri": "https://localhost:8080/",
          "height": 299
        },
        "id": "ZGTGujBUXnY6",
        "outputId": "55365542-d65f-4cda-8ea5-34904b7a7a32"
      },
      "execution_count": 11,
      "outputs": [
        {
          "output_type": "display_data",
          "data": {
            "text/plain": [
              "<Figure size 2000x600 with 2 Axes>"
            ],
            "image/png": "[encoded data removed]"
          },
          "metadata": {}
        }
      ]
    },
    {
      "cell_type": "code",
      "source": [
        "df_mbp['Rating ?/5'] = np.log(df_mbp['Rating ?/5'])\n",
        "sns.boxplot(data=df_mbp['Rating ?/5'])\n",
        "plt.title('Rating ?/5 Boxplot')\n",
        "plt.show()"
      ],
      "metadata": {
        "colab": {
          "base_uri": "https://localhost:8080/",
          "height": 433
        },
        "id": "P_NJgVubXyB2",
        "outputId": "7d1da5ef-8746-4388-ce75-e16f3ce93738"
      },
      "execution_count": 12,
      "outputs": [
        {
          "output_type": "display_data",
          "data": {
            "text/plain": [
              "<Figure size 640x480 with 1 Axes>"
            ],
            "image/png": "[encoded data removed]"
          },
          "metadata": {}
        }
      ]
    },
    {
      "cell_type": "code",
      "source": [
        "from scipy.stats.mstats import winsorize\n",
        "\n",
        "df_mbp['Rating ?/5'] = winsorize(df_mbp['Rating ?/5'])\n",
        "\n",
        "def remove_outliers(data, column):\n",
        "  Q1 = data[column].quantile(0.25)\n",
        "  Q3 = data[column].quantile(0.75)\n",
        "  IQR = Q3 - Q1\n",
        "  upper_bound = Q3 + 1.5 * IQR\n",
        "  lower_bound = Q1 - 1.5 * IQR\n",
        "  data = data[(data[column] >= lower_bound) & (data[column] <= upper_bound)]\n",
        "  return data\n",
        "\n",
        "df_mbp = remove_outliers(df_mbp, 'Rating ?/5')\n",
        "\n",
        "sns.boxplot(data=df_mbp['Rating ?/5'])\n",
        "plt.title('Rating ?/5 Boxplot')\n",
        "plt.show()"
      ],
      "metadata": {
        "colab": {
          "base_uri": "https://localhost:8080/",
          "height": 433
        },
        "id": "snODc5p4YDgi",
        "outputId": "ee245b42-cd28-409e-828b-295407b8a7fe"
      },
      "execution_count": 13,
      "outputs": [
        {
          "output_type": "display_data",
          "data": {
            "text/plain": [
              "<Figure size 640x480 with 1 Axes>"
            ],
            "image/png": "[encoded data removed]"
          },
          "metadata": {}
        }
      ]
    },
    {
      "cell_type": "code",
      "source": [
        "df_mbp[num].hist(bins=30, figsize=(12,6))\n",
        "plt.show()"
      ],
      "metadata": {
        "colab": {
          "base_uri": "https://localhost:8080/",
          "height": 476
        },
        "id": "Y0bwF5R2aRdT",
        "outputId": "7f88d975-112b-4d69-df93-6b296b706ed0"
      },
      "execution_count": 14,
      "outputs": [
        {
          "output_type": "display_data",
          "data": {
            "text/plain": [
              "<Figure size 1200x600 with 2 Axes>"
            ],
            "image/png": "[encoded data removed]"
          },
          "metadata": {}
        }
      ]
    },
    {
      "cell_type": "code",
      "source": [
        "x = df_mbp.drop('Price in INR', axis=1)\n",
        "y = df_mbp['Price in INR']\n",
        "\n",
        "x_train, x_test, y_train, y_test = train_test_split(x, y, test_size=0.25, random_state=42)\n",
        "\n",
        "x_train.shape, x_test.shape, y_train.shape, y_test.shape"
      ],
      "metadata": {
        "colab": {
          "base_uri": "https://localhost:8080/"
        },
        "id": "yK4m-ZWLamqW",
        "outputId": "1a0672eb-c3a7-48d5-f12b-146c1b0202f2"
      },
      "execution_count": 15,
      "outputs": [
        {
          "output_type": "execute_result",
          "data": {
            "text/plain": [
              "((1221, 9), (407, 9), (1221,), (407,))"
            ]
          },
          "metadata": {},
          "execution_count": 15
        }
      ]
    },
    {
      "cell_type": "code",
      "source": [
        "df_mbp.isna().sum()"
      ],
      "metadata": {
        "colab": {
          "base_uri": "https://localhost:8080/",
          "height": 397
        },
        "id": "kmEcZP8ybiC7",
        "outputId": "7332464a-e21c-4552-d942-e647cf2df347"
      },
      "execution_count": 16,
      "outputs": [
        {
          "output_type": "execute_result",
          "data": {
            "text/plain": [
              "Phone Name              0\n",
              "Rating ?/5              0\n",
              "Number of Ratings    1360\n",
              "RAM                     0\n",
              "ROM/Storage           154\n",
              "Back/Rare Camera        3\n",
              "Front Camera          304\n",
              "Battery                 4\n",
              "Processor              39\n",
              "Price in INR            0\n",
              "dtype: int64"
            ],
            "text/html": [
              "<div>\n",
              "<style scoped>\n",
              "    .dataframe tbody tr th:only-of-type {\n",
              "        vertical-align: middle;\n",
              "    }\n",
              "\n",
              "    .dataframe tbody tr th {\n",
              "        vertical-align: top;\n",
              "    }\n",
              "\n",
              "    .dataframe thead th {\n",
              "        text-align: right;\n",
              "    }\n",
              "</style>\n",
              "<table border=\"1\" class=\"dataframe\">\n",
              "  <thead>\n",
              "    <tr style=\"text-align: right;\">\n",
              "      <th></th>\n",
              "      <th>0</th>\n",
              "    </tr>\n",
              "  </thead>\n",
              "  <tbody>\n",
              "    <tr>\n",
              "      <th>Phone Name</th>\n",
              "      <td>0</td>\n",
              "    </tr>\n",
              "    <tr>\n",
              "      <th>Rating ?/5</th>\n",
              "      <td>0</td>\n",
              "    </tr>\n",
              "    <tr>\n",
              "      <th>Number of Ratings</th>\n",
              "      <td>1360</td>\n",
              "    </tr>\n",
              "    <tr>\n",
              "      <th>RAM</th>\n",
              "      <td>0</td>\n",
              "    </tr>\n",
              "    <tr>\n",
              "      <th>ROM/Storage</th>\n",
              "      <td>154</td>\n",
              "    </tr>\n",
              "    <tr>\n",
              "      <th>Back/Rare Camera</th>\n",
              "      <td>3</td>\n",
              "    </tr>\n",
              "    <tr>\n",
              "      <th>Front Camera</th>\n",
              "      <td>304</td>\n",
              "    </tr>\n",
              "    <tr>\n",
              "      <th>Battery</th>\n",
              "      <td>4</td>\n",
              "    </tr>\n",
              "    <tr>\n",
              "      <th>Processor</th>\n",
              "      <td>39</td>\n",
              "    </tr>\n",
              "    <tr>\n",
              "      <th>Price in INR</th>\n",
              "      <td>0</td>\n",
              "    </tr>\n",
              "  </tbody>\n",
              "</table>\n",
              "</div><br><label><b>dtype:</b> int64</label>"
            ]
          },
          "metadata": {},
          "execution_count": 16
        }
      ]
    },
    {
      "cell_type": "code",
      "source": [
        "x_train[num].hist(bins=30, figsize=(12,6))\n",
        "plt.show()"
      ],
      "metadata": {
        "colab": {
          "base_uri": "https://localhost:8080/",
          "height": 476
        },
        "id": "3QLNKTmIbq9e",
        "outputId": "4b64f411-50e0-4481-c342-ae1a53901717"
      },
      "execution_count": 17,
      "outputs": [
        {
          "output_type": "display_data",
          "data": {
            "text/plain": [
              "<Figure size 1200x600 with 2 Axes>"
            ],
            "image/png": "[encoded data removed]"
          },
          "metadata": {}
        }
      ]
    },
    {
      "cell_type": "code",
      "source": [
        "from sklearn.preprocessing import StandardScaler\n",
        "\n",
        "scaler = StandardScaler()\n",
        "\n",
        "x_train[num] = scaler.fit_transform(x_train[num])\n",
        "x_test[num] = scaler.transform(x_test[num])\n",
        "\n",
        "x_train[num].hist(bins=20, figsize=(12, 6))\n",
        "plt.show()"
      ],
      "metadata": {
        "colab": {
          "base_uri": "https://localhost:8080/",
          "height": 477
        },
        "id": "xnyTYKhjbzem",
        "outputId": "61da42fb-77b5-4942-a608-f7b3b29f9bdd"
      },
      "execution_count": 18,
      "outputs": [
        {
          "output_type": "display_data",
          "data": {
            "text/plain": [
              "<Figure size 1200x600 with 2 Axes>"
            ],
            "image/png": "[encoded data removed]"
          },
          "metadata": {}
        }
      ]
    },
    {
      "cell_type": "code",
      "source": [
        "sns.boxplot(data=x_train[num])\n",
        "plt.show()"
      ],
      "metadata": {
        "colab": {
          "base_uri": "https://localhost:8080/",
          "height": 430
        },
        "id": "Nxwj_PD9cpaH",
        "outputId": "1aaf565b-46ff-4f25-8d62-23cdedd8f656"
      },
      "execution_count": 19,
      "outputs": [
        {
          "output_type": "display_data",
          "data": {
            "text/plain": [
              "<Figure size 640x480 with 1 Axes>"
            ],
            "image/png": "[encoded data removed]"
          },
          "metadata": {}
        }
      ]
    },
    {
      "cell_type": "code",
      "source": [
        "x_train[num].hist(bins=30, figsize=(12,6))\n",
        "plt.show()"
      ],
      "metadata": {
        "colab": {
          "base_uri": "https://localhost:8080/",
          "height": 477
        },
        "id": "CPjUjO2zc3gO",
        "outputId": "cf62bdba-462c-4370-d1e3-0d8c0600e3fc"
      },
      "execution_count": 20,
      "outputs": [
        {
          "output_type": "display_data",
          "data": {
            "text/plain": [
              "<Figure size 1200x600 with 2 Axes>"
            ],
            "image/png": "[encoded data removed]"
          },
          "metadata": {}
        }
      ]
    },
    {
      "cell_type": "code",
      "source": [
        "x_train.isna().sum() / len(x_train)"
      ],
      "metadata": {
        "colab": {
          "base_uri": "https://localhost:8080/",
          "height": 366
        },
        "id": "gGcOaqKpdG3y",
        "outputId": "2e65ff1a-1248-4a55-eb9f-b3a09b212e21"
      },
      "execution_count": 21,
      "outputs": [
        {
          "output_type": "execute_result",
          "data": {
            "text/plain": [
              "Phone Name           0.000000\n",
              "Rating ?/5           0.000000\n",
              "Number of Ratings    0.837838\n",
              "RAM                  0.000000\n",
              "ROM/Storage          0.094185\n",
              "Back/Rare Camera     0.001638\n",
              "Front Camera         0.182637\n",
              "Battery              0.002457\n",
              "Processor            0.025389\n",
              "dtype: float64"
            ],
            "text/html": [
              "<div>\n",
              "<style scoped>\n",
              "    .dataframe tbody tr th:only-of-type {\n",
              "        vertical-align: middle;\n",
              "    }\n",
              "\n",
              "    .dataframe tbody tr th {\n",
              "        vertical-align: top;\n",
              "    }\n",
              "\n",
              "    .dataframe thead th {\n",
              "        text-align: right;\n",
              "    }\n",
              "</style>\n",
              "<table border=\"1\" class=\"dataframe\">\n",
              "  <thead>\n",
              "    <tr style=\"text-align: right;\">\n",
              "      <th></th>\n",
              "      <th>0</th>\n",
              "    </tr>\n",
              "  </thead>\n",
              "  <tbody>\n",
              "    <tr>\n",
              "      <th>Phone Name</th>\n",
              "      <td>0.000000</td>\n",
              "    </tr>\n",
              "    <tr>\n",
              "      <th>Rating ?/5</th>\n",
              "      <td>0.000000</td>\n",
              "    </tr>\n",
              "    <tr>\n",
              "      <th>Number of Ratings</th>\n",
              "      <td>0.837838</td>\n",
              "    </tr>\n",
              "    <tr>\n",
              "      <th>RAM</th>\n",
              "      <td>0.000000</td>\n",
              "    </tr>\n",
              "    <tr>\n",
              "      <th>ROM/Storage</th>\n",
              "      <td>0.094185</td>\n",
              "    </tr>\n",
              "    <tr>\n",
              "      <th>Back/Rare Camera</th>\n",
              "      <td>0.001638</td>\n",
              "    </tr>\n",
              "    <tr>\n",
              "      <th>Front Camera</th>\n",
              "      <td>0.182637</td>\n",
              "    </tr>\n",
              "    <tr>\n",
              "      <th>Battery</th>\n",
              "      <td>0.002457</td>\n",
              "    </tr>\n",
              "    <tr>\n",
              "      <th>Processor</th>\n",
              "      <td>0.025389</td>\n",
              "    </tr>\n",
              "  </tbody>\n",
              "</table>\n",
              "</div><br><label><b>dtype:</b> float64</label>"
            ]
          },
          "metadata": {},
          "execution_count": 21
        }
      ]
    },
    {
      "cell_type": "code",
      "source": [
        "x_test.isna().sum() / len(x_test)"
      ],
      "metadata": {
        "colab": {
          "base_uri": "https://localhost:8080/",
          "height": 366
        },
        "id": "rkHAAZZceU2e",
        "outputId": "54fe9140-5d80-4c76-dfa4-e899c0d1e019"
      },
      "execution_count": 22,
      "outputs": [
        {
          "output_type": "execute_result",
          "data": {
            "text/plain": [
              "Phone Name           0.000000\n",
              "Rating ?/5           0.000000\n",
              "Number of Ratings    0.828010\n",
              "RAM                  0.000000\n",
              "ROM/Storage          0.095823\n",
              "Back/Rare Camera     0.002457\n",
              "Front Camera         0.199017\n",
              "Battery              0.002457\n",
              "Processor            0.019656\n",
              "dtype: float64"
            ],
            "text/html": [
              "<div>\n",
              "<style scoped>\n",
              "    .dataframe tbody tr th:only-of-type {\n",
              "        vertical-align: middle;\n",
              "    }\n",
              "\n",
              "    .dataframe tbody tr th {\n",
              "        vertical-align: top;\n",
              "    }\n",
              "\n",
              "    .dataframe thead th {\n",
              "        text-align: right;\n",
              "    }\n",
              "</style>\n",
              "<table border=\"1\" class=\"dataframe\">\n",
              "  <thead>\n",
              "    <tr style=\"text-align: right;\">\n",
              "      <th></th>\n",
              "      <th>0</th>\n",
              "    </tr>\n",
              "  </thead>\n",
              "  <tbody>\n",
              "    <tr>\n",
              "      <th>Phone Name</th>\n",
              "      <td>0.000000</td>\n",
              "    </tr>\n",
              "    <tr>\n",
              "      <th>Rating ?/5</th>\n",
              "      <td>0.000000</td>\n",
              "    </tr>\n",
              "    <tr>\n",
              "      <th>Number of Ratings</th>\n",
              "      <td>0.828010</td>\n",
              "    </tr>\n",
              "    <tr>\n",
              "      <th>RAM</th>\n",
              "      <td>0.000000</td>\n",
              "    </tr>\n",
              "    <tr>\n",
              "      <th>ROM/Storage</th>\n",
              "      <td>0.095823</td>\n",
              "    </tr>\n",
              "    <tr>\n",
              "      <th>Back/Rare Camera</th>\n",
              "      <td>0.002457</td>\n",
              "    </tr>\n",
              "    <tr>\n",
              "      <th>Front Camera</th>\n",
              "      <td>0.199017</td>\n",
              "    </tr>\n",
              "    <tr>\n",
              "      <th>Battery</th>\n",
              "      <td>0.002457</td>\n",
              "    </tr>\n",
              "    <tr>\n",
              "      <th>Processor</th>\n",
              "      <td>0.019656</td>\n",
              "    </tr>\n",
              "  </tbody>\n",
              "</table>\n",
              "</div><br><label><b>dtype:</b> float64</label>"
            ]
          },
          "metadata": {},
          "execution_count": 22
        }
      ]
    },
    {
      "cell_type": "code",
      "source": [
        "x_train[['Rating ?/5', 'Number of Ratings']].hist(bins=30, figsize=(12,6))\n",
        "plt.show()"
      ],
      "metadata": {
        "colab": {
          "base_uri": "https://localhost:8080/",
          "height": 477
        },
        "id": "abMPfbYPebP1",
        "outputId": "4ee333a0-0389-4da5-dfcc-11558b0cc4a7"
      },
      "execution_count": 23,
      "outputs": [
        {
          "output_type": "display_data",
          "data": {
            "text/plain": [
              "<Figure size 1200x600 with 2 Axes>"
            ],
            "image/png": "[encoded data removed]"
          },
          "metadata": {}
        }
      ]
    },
    {
      "cell_type": "code",
      "source": [
        "x_train['Rating ?/5'].skew(), x_train['Number of Ratings'].skew()"
      ],
      "metadata": {
        "colab": {
          "base_uri": "https://localhost:8080/"
        },
        "id": "a5bXXeEHemwi",
        "outputId": "81d746cb-eb8f-4a6b-c1a0-c98d4565e5d4"
      },
      "execution_count": 24,
      "outputs": [
        {
          "output_type": "execute_result",
          "data": {
            "text/plain": [
              "(0.19158426975527015, 0.36538419099180897)"
            ]
          },
          "metadata": {},
          "execution_count": 24
        }
      ]
    },
    {
      "cell_type": "code",
      "source": [
        "x_train['Rating ?/5'] = pd.to_numeric(x_train['Rating ?/5'], errors='coerce')\n",
        "x_test['Rating ?/5'] = pd.to_numeric(x_test['Rating ?/5'], errors='coerce')\n",
        "\n",
        "x_train['Rating ?/5'].fillna(x_train['Rating ?/5'].median(), inplace=True)\n",
        "x_test['Rating ?/5'].fillna(x_test['Rating ?/5'].median(), inplace=True)\n",
        "\n",
        "x_train['Number of Ratings'].fillna(x_train['Number of Ratings'].median(), inplace=True)\n",
        "x_test['Number of Ratings'].fillna(x_test['Number of Ratings'].median(), inplace=True)\n",
        "\n",
        "x_train.isna().sum() / len(x_train)"
      ],
      "metadata": {
        "colab": {
          "base_uri": "https://localhost:8080/",
          "height": 366
        },
        "id": "bl8pDsPQe7yS",
        "outputId": "e8cd337d-71f9-406b-ef8a-e4deb5271410"
      },
      "execution_count": 35,
      "outputs": [
        {
          "output_type": "execute_result",
          "data": {
            "text/plain": [
              "Phone Name           0.000000\n",
              "Rating ?/5           0.000000\n",
              "Number of Ratings    0.000000\n",
              "RAM                  0.000000\n",
              "ROM/Storage          0.094185\n",
              "Back/Rare Camera     0.001638\n",
              "Front Camera         0.182637\n",
              "Battery              0.002457\n",
              "Processor            0.025389\n",
              "dtype: float64"
            ],
            "text/html": [
              "<div>\n",
              "<style scoped>\n",
              "    .dataframe tbody tr th:only-of-type {\n",
              "        vertical-align: middle;\n",
              "    }\n",
              "\n",
              "    .dataframe tbody tr th {\n",
              "        vertical-align: top;\n",
              "    }\n",
              "\n",
              "    .dataframe thead th {\n",
              "        text-align: right;\n",
              "    }\n",
              "</style>\n",
              "<table border=\"1\" class=\"dataframe\">\n",
              "  <thead>\n",
              "    <tr style=\"text-align: right;\">\n",
              "      <th></th>\n",
              "      <th>0</th>\n",
              "    </tr>\n",
              "  </thead>\n",
              "  <tbody>\n",
              "    <tr>\n",
              "      <th>Phone Name</th>\n",
              "      <td>0.000000</td>\n",
              "    </tr>\n",
              "    <tr>\n",
              "      <th>Rating ?/5</th>\n",
              "      <td>0.000000</td>\n",
              "    </tr>\n",
              "    <tr>\n",
              "      <th>Number of Ratings</th>\n",
              "      <td>0.000000</td>\n",
              "    </tr>\n",
              "    <tr>\n",
              "      <th>RAM</th>\n",
              "      <td>0.000000</td>\n",
              "    </tr>\n",
              "    <tr>\n",
              "      <th>ROM/Storage</th>\n",
              "      <td>0.094185</td>\n",
              "    </tr>\n",
              "    <tr>\n",
              "      <th>Back/Rare Camera</th>\n",
              "      <td>0.001638</td>\n",
              "    </tr>\n",
              "    <tr>\n",
              "      <th>Front Camera</th>\n",
              "      <td>0.182637</td>\n",
              "    </tr>\n",
              "    <tr>\n",
              "      <th>Battery</th>\n",
              "      <td>0.002457</td>\n",
              "    </tr>\n",
              "    <tr>\n",
              "      <th>Processor</th>\n",
              "      <td>0.025389</td>\n",
              "    </tr>\n",
              "  </tbody>\n",
              "</table>\n",
              "</div><br><label><b>dtype:</b> float64</label>"
            ]
          },
          "metadata": {},
          "execution_count": 35
        }
      ]
    },
    {
      "cell_type": "code",
      "source": [
        "x_train[['Rating ?/5', 'Number of Ratings']].hist(bins=30, figsize=(12,6))\n",
        "plt.show()"
      ],
      "metadata": {
        "colab": {
          "base_uri": "https://localhost:8080/",
          "height": 477
        },
        "id": "OxRehZ7qfarG",
        "outputId": "87c53f61-c232-4480-c6b5-5e3ad03a7cb1"
      },
      "execution_count": 28,
      "outputs": [
        {
          "output_type": "display_data",
          "data": {
            "text/plain": [
              "<Figure size 1200x600 with 2 Axes>"
            ],
            "image/png": "[encoded data removed]"
          },
          "metadata": {}
        }
      ]
    },
    {
      "cell_type": "code",
      "source": [
        "print(x_train[x_train['Rating ?/5'] == ''].shape)\n",
        "print(x_train[x_train['Number of Ratings'] == ''].shape)\n",
        "\n",
        "print(x_train[x_train['Rating ?/5'] == ' '].shape)\n",
        "print(x_train[x_train['Number of Ratings'] == ' '].shape)"
      ],
      "metadata": {
        "colab": {
          "base_uri": "https://localhost:8080/"
        },
        "id": "jZc8mkVBx6Dq",
        "outputId": "86e48b46-b24d-4548-ec7d-ea650e98bb4f"
      },
      "execution_count": 39,
      "outputs": [
        {
          "output_type": "stream",
          "name": "stdout",
          "text": [
            "(0, 9)\n",
            "(0, 9)\n",
            "(0, 9)\n",
            "(0, 9)\n"
          ]
        }
      ]
    },
    {
      "cell_type": "code",
      "source": [
        "x_train['Rating ?/5'] = x_train['Rating ?/5'].replace(['', ' '], np.nan)\n",
        "x_train['Number of Ratings'] = x_train['Number of Ratings'].replace(['', ' '], np.nan)"
      ],
      "metadata": {
        "id": "nWVyNvlcyIfd"
      },
      "execution_count": 40,
      "outputs": []
    },
    {
      "cell_type": "code",
      "source": [
        "print(x_train[x_train['Rating ?/5'] == ''].shape)\n",
        "print(x_train[x_train['Number of Ratings'] == ''].shape)\n",
        "\n",
        "print(x_train[x_train['Rating ?/5'] == ' '].shape)\n",
        "print(x_train[x_train['Number of Ratings'] == ' '].shape)"
      ],
      "metadata": {
        "colab": {
          "base_uri": "https://localhost:8080/"
        },
        "id": "TOvNIqMq6QWJ",
        "outputId": "1f46fbbf-12da-47df-a5a9-5819d1ddc55e"
      },
      "execution_count": 41,
      "outputs": [
        {
          "output_type": "stream",
          "name": "stdout",
          "text": [
            "(0, 9)\n",
            "(0, 9)\n",
            "(0, 9)\n",
            "(0, 9)\n"
          ]
        }
      ]
    },
    {
      "cell_type": "code",
      "source": [
        "x_train_imputed = x_train.copy()\n",
        "x_train_imputed['Rating ?/5'] = x_train_imputed['Rating ?/5'].fillna(x_train_imputed['Rating ?/5'].median())\n",
        "x_train_imputed['Number of Ratings'] = x_train_imputed['Number of Ratings'].fillna(x_train_imputed['Number of Ratings'].median())"
      ],
      "metadata": {
        "id": "Ho5lGVzP6SNP"
      },
      "execution_count": 42,
      "outputs": []
    },
    {
      "cell_type": "code",
      "source": [
        "print(x_train[x_train['Rating ?/5'] == ''].shape)\n",
        "print(x_train[x_train['Number of Ratings'] == ''].shape)\n",
        "\n",
        "print(x_train[x_train['Rating ?/5'] == ' '].shape)\n",
        "print(x_train[x_train['Number of Ratings'] == ' '].shape)"
      ],
      "metadata": {
        "colab": {
          "base_uri": "https://localhost:8080/"
        },
        "id": "YQ6ECfNd6cKk",
        "outputId": "4e4786a8-f52d-4922-f8fc-cdb7384d843c"
      },
      "execution_count": 43,
      "outputs": [
        {
          "output_type": "stream",
          "name": "stdout",
          "text": [
            "(0, 9)\n",
            "(0, 9)\n",
            "(0, 9)\n",
            "(0, 9)\n"
          ]
        }
      ]
    },
    {
      "cell_type": "code",
      "source": [],
      "metadata": {
        "id": "aNU_ypgZ6dqD"
      },
      "execution_count": null,
      "outputs": []
    }
  ]
}